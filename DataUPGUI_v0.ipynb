{
 "cells": [
  {
   "cell_type": "code",
   "execution_count": 1,
   "metadata": {
    "scrolled": true
   },
   "outputs": [
    {
     "name": "stdout",
     "output_type": "stream",
     "text": [
      "Grabando...\n",
      "Grabado\n",
      "Grabado\n",
      "Grabado\n",
      "Grabando...\n",
      "Grabado\n",
      "Procesando...\n"
     ]
    }
   ],
   "source": [
    "from tkinter import Tk, Label, Button\n",
    "\n",
    "class MyFirstGUI:\n",
    "    def __init__(self, master):\n",
    "        self.master = master\n",
    "        master.title(\"A simple GUI\")\n",
    "\n",
    "        self.label = Label(master, text=\"DataUP\")\n",
    "        self.label.pack()\n",
    "\n",
    "        self.rec_button = Button(master, text=\"Grabar\", command=self.grabar)\n",
    "        self.rec_button.pack()\n",
    "    \n",
    "        # Botón de parar\n",
    "        self.stoprec_button = Button(master, text=\"Detener\", command=self.detener)\n",
    "        self.stoprec_button.pack()\n",
    "\n",
    "        # Procesas\n",
    "        self.proc_button = Button(master, text=\"Procesar\", command=self.procesar)\n",
    "        self.proc_button.pack()\n",
    "        \n",
    "    def grabar(self):\n",
    "        print(\"Grabando...\")\n",
    "        \n",
    "    def detener(self):\n",
    "        print(\"Grabado\")\n",
    "        \n",
    "    def procesar(self):\n",
    "        print(\"Procesando...\")\n",
    "        \n",
    "root = Tk()\n",
    "my_gui = MyFirstGUI(root)\n",
    "root.mainloop()"
   ]
  },
  {
   "cell_type": "code",
   "execution_count": 13,
   "metadata": {},
   "outputs": [],
   "source": [
    "from tkinter import Tk, Label, Button, StringVar\n",
    "\n",
    "class MyFirstGUI:\n",
    "    LABEL_TEXT = [\n",
    "        \"This is our first GUI!\",\n",
    "        \"Actually, this is our second GUI.\",\n",
    "        \"We made it more interesting...\",\n",
    "        \"...by making this label interactive.\",\n",
    "        \"Go on, click on it again.\",\n",
    "    ]\n",
    "    def __init__(self, master):\n",
    "        self.master = master\n",
    "        master.title(\"A simple GUI\")\n",
    "\n",
    "        self.label_index = 0\n",
    "        self.label_text = StringVar()\n",
    "        self.label_text.set(self.LABEL_TEXT[self.label_index])\n",
    "        self.label = Label(master, textvariable=self.label_text)\n",
    "        self.label.bind(\"<Button-1>\", self.cycle_label_text)\n",
    "        self.label.pack()\n",
    "\n",
    "        self.greet_button = Button(master, text=\"Greet\", command=self.greet)\n",
    "        self.greet_button.pack()\n",
    "\n",
    "        self.close_button = Button(master, text=\"Close\", command=master.quit)\n",
    "        self.close_button.pack()\n",
    "\n",
    "    def greet(self):\n",
    "        print(\"Greetings!\")\n",
    "\n",
    "    def cycle_label_text(self, event):\n",
    "        self.label_index += 1\n",
    "        self.label_index %= len(self.LABEL_TEXT) # wrap around\n",
    "        self.label_text.set(self.LABEL_TEXT[self.label_index])\n",
    "\n",
    "root = Tk()\n",
    "my_gui = MyFirstGUI(root)\n",
    "root.mainloop()"
   ]
  },
  {
   "cell_type": "code",
   "execution_count": 6,
   "metadata": {},
   "outputs": [],
   "source": [
    "from tkinter import *\n",
    "\n",
    "class App(Frame):\n",
    "    def __init__(self, master=None):\n",
    "        super().__init__(master)\n",
    "        self.pack()\n",
    "\n",
    "        self.entrythingy = Entry()\n",
    "        self.entrythingy.pack()\n",
    "\n",
    "        # here is the application variable\n",
    "        self.contents = StringVar()\n",
    "        # set it to some value\n",
    "        self.contents.set(\"this is a variable\")\n",
    "        # tell the entry widget to watch this variable\n",
    "        self.entrythingy[\"textvariable\"] = self.contents\n",
    "\n",
    "        # and here we get a callback when the user hits return.\n",
    "        # we will have the program print out the value of the\n",
    "        # application variable when the user hits return\n",
    "        self.entrythingy.bind('<Key-Return>',\n",
    "                              self.print_contents)\n",
    "\n",
    "    def print_contents(self, event):\n",
    "        print(\"hi. contents of entry is now ---->\",\n",
    "              self.contents.get())"
   ]
  },
  {
   "cell_type": "code",
   "execution_count": 8,
   "metadata": {},
   "outputs": [
    {
     "name": "stdout",
     "output_type": "stream",
     "text": [
      "hi there, everyone!\n",
      "hi there, everyone!\n",
      "hi there, everyone!\n",
      "hi there, everyone!\n"
     ]
    }
   ],
   "source": [
    "import tkinter as tk\n",
    "\n",
    "class Application(tk.Frame):\n",
    "    def __init__(self, master=None):\n",
    "        super().__init__(master)\n",
    "        self.master = master\n",
    "        self.pack()\n",
    "        self.create_widgets()\n",
    "\n",
    "    def create_widgets(self):\n",
    "        self.hi_there = tk.Button(self)\n",
    "        self.hi_there[\"text\"] = \"Hello World\\n(click me)\"\n",
    "        self.hi_there[\"command\"] = self.say_hi\n",
    "        self.hi_there.pack(side=\"top\")\n",
    "\n",
    "        self.quit = tk.Button(self, text=\"QUIT\", fg=\"red\", command=self.master.destroy)\n",
    "        self.quit.pack(side=\"bottom\")\n",
    "\n",
    "    def say_hi(self):\n",
    "        print(\"hi there, everyone!\")\n",
    "\n",
    "root = tk.Tk()\n",
    "app = Application(master=root)\n",
    "app.mainloop()"
   ]
  },
  {
   "cell_type": "code",
   "execution_count": null,
   "metadata": {},
   "outputs": [],
   "source": []
  }
 ],
 "metadata": {
  "kernelspec": {
   "display_name": "Python 3",
   "language": "python",
   "name": "python3"
  },
  "language_info": {
   "codemirror_mode": {
    "name": "ipython",
    "version": 3
   },
   "file_extension": ".py",
   "mimetype": "text/x-python",
   "name": "python",
   "nbconvert_exporter": "python",
   "pygments_lexer": "ipython3",
   "version": "3.6.5"
  }
 },
 "nbformat": 4,
 "nbformat_minor": 2
}
