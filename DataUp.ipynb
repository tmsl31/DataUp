{
 "cells": [
  {
   "cell_type": "markdown",
   "metadata": {},
   "source": [
    "# DataUp"
   ]
  },
  {
   "cell_type": "markdown",
   "metadata": {},
   "source": [
    "Proyecto del curso \"Taller de Proyecto\". Análisis de entrevistas utilizando procesamiento de voz y técnicas de análisis de texto"
   ]
  },
  {
   "cell_type": "code",
   "execution_count": 1,
   "metadata": {},
   "outputs": [],
   "source": [
    "#Imports\n",
    "import pandas as pd\n",
    "import speech_recognition as sr #Speech Recognition\n",
    "from os import path\n",
    "import matplotlib.pyplot as plt\n",
    "#Pre procesamiento\n",
    "import re\n",
    "import nltk\n",
    "#nltk.download('stopwords')\n",
    "from nltk.corpus import stopwords\n",
    "from nltk.stem.porter import PorterStemmer\n",
    "from nltk.tokenize import RegexpTokenizer\n",
    "#nltk.download('wordnet') \n",
    "from nltk.stem.wordnet import WordNetLemmatizer\n",
    "from sklearn.feature_extraction.text import CountVectorizer\n"
   ]
  },
  {
   "cell_type": "markdown",
   "metadata": {},
   "source": [
    "## 1.- Procesamiento de Voz"
   ]
  },
  {
   "cell_type": "code",
   "execution_count": null,
   "metadata": {},
   "outputs": [],
   "source": []
  },
  {
   "cell_type": "markdown",
   "metadata": {},
   "source": [
    "## 2.- Análisis del Texto"
   ]
  },
  {
   "cell_type": "markdown",
   "metadata": {},
   "source": [
    "### 2.1.- Pre-procesamiento"
   ]
  },
  {
   "cell_type": "code",
   "execution_count": 91,
   "metadata": {},
   "outputs": [],
   "source": [
    "texto = \"Un edificio gris, achaparrado, de sólo treinta y cuatro plantas. Encima de la entrada principal las palabras: Centro de Incubacion y Condicionamiento de la Central de Londres, y, en un escudo, la divisa del Estado Mundial: Comunidad, Identidad, Estabilidad. Dentro, la enorme sala de la planta baja se hallaba orientada hacia el Norte. Fría a pesar del verano que reinaba en el exterior y del calor tropical de la sala, una luz cruda se filtraba a través de las ventanas buscando ávidamente algún cuerpo amortajado o alguna figura pálida, producto de las disecciones académicas; sin encontrar más que el cristal, el níquel y la brillante porcelana de un laboratorio. Lo invernal respondía a lo invernal. Las batas de los trabajadores eran blancas, y éstos llevaban las manos enfundadas en guantes de goma de un color pálido, como de cadáver. La luz era helada, muerta, fantasmal. Sólo de los amarillos cilindros de los microscopios se lograba arrancar cierta calidad de vida, deslizándose a lo largo de los tubos y formando una dilatada procesión de trazos luminosos que seguían la larga perspectiva de las mesas de trabajo.\"\n",
    "pandasText = pd.DataFrame([texto],columns = ['Texto'], index = [1])"
   ]
  },
  {
   "cell_type": "markdown",
   "metadata": {},
   "source": [
    "#### 2.1.1.- Eliminacion de stopwords y ruido"
   ]
  },
  {
   "cell_type": "markdown",
   "metadata": {},
   "source": [
    "Removing stopwords: Stop words include the large number of prepositions, pronouns, conjunctions etc in sentences. These words need to be removed before we analyse the text, so that the frequently used words are mainly the words relevant to the context and not common words used in the text."
   ]
  },
  {
   "cell_type": "code",
   "execution_count": 92,
   "metadata": {},
   "outputs": [],
   "source": [
    "#Lista de stop words en espanol. Util para elminaras del texto original.\n",
    "stopWords = set(stopwords.words(\"spanish\"))"
   ]
  },
  {
   "cell_type": "code",
   "execution_count": 105,
   "metadata": {},
   "outputs": [],
   "source": [
    "def preProcesamiento(textoPandas,stopWords, deleteStopWords = 1, lemanizar= 0):\n",
    "    #Funcion que realiza el preProcesamiento del texto.\n",
    "    \n",
    "    #Convertir a Pandas.\n",
    "    text = textoPandas['Texto'][1]\n",
    "    #Pasar a minusculas.\n",
    "    text = text.lower()\n",
    "    #Eliminar comas y simbolos.\n",
    "    text = re.sub(r'[^\\w\\s]','',text)\n",
    "    #Convertir a vector de palabras.\n",
    "    text = text.split()\n",
    "    #Eliminar stopWords\n",
    "    text = [word for word in text if not word in stopWords]\n",
    "    #Decidir si lemanizar o no\n",
    "    if lemanizar == 1:\n",
    "        lem = WordNEtLemmatizer()\n",
    "        text = [lem.lemmatize(word) for word in text]\n",
    "    return text"
   ]
  },
  {
   "cell_type": "code",
   "execution_count": 110,
   "metadata": {},
   "outputs": [],
   "source": [
    "#Generar el texto preProcesado. Se entrega un vector con las palabras clave.\n",
    "text = preProcesamiento(pandasText,stopWords)"
   ]
  },
  {
   "cell_type": "code",
   "execution_count": 111,
   "metadata": {},
   "outputs": [
    {
     "data": {
      "text/plain": [
       "['edificio',\n",
       " 'gris',\n",
       " 'achaparrado',\n",
       " 'sólo',\n",
       " 'treinta',\n",
       " 'cuatro',\n",
       " 'plantas',\n",
       " 'encima',\n",
       " 'entrada',\n",
       " 'principal',\n",
       " 'palabras',\n",
       " 'centro',\n",
       " 'incubacion',\n",
       " 'condicionamiento',\n",
       " 'central',\n",
       " 'londres',\n",
       " 'escudo',\n",
       " 'divisa',\n",
       " 'mundial',\n",
       " 'comunidad',\n",
       " 'identidad',\n",
       " 'estabilidad',\n",
       " 'dentro',\n",
       " 'enorme',\n",
       " 'sala',\n",
       " 'planta',\n",
       " 'baja',\n",
       " 'hallaba',\n",
       " 'orientada',\n",
       " 'hacia',\n",
       " 'norte',\n",
       " 'fría',\n",
       " 'pesar',\n",
       " 'verano',\n",
       " 'reinaba',\n",
       " 'exterior',\n",
       " 'calor',\n",
       " 'tropical',\n",
       " 'sala',\n",
       " 'luz',\n",
       " 'cruda',\n",
       " 'filtraba',\n",
       " 'través',\n",
       " 'ventanas',\n",
       " 'buscando',\n",
       " 'ávidamente',\n",
       " 'algún',\n",
       " 'cuerpo',\n",
       " 'amortajado',\n",
       " 'alguna',\n",
       " 'figura',\n",
       " 'pálida',\n",
       " 'producto',\n",
       " 'disecciones',\n",
       " 'académicas',\n",
       " 'encontrar',\n",
       " 'cristal',\n",
       " 'níquel',\n",
       " 'brillante',\n",
       " 'porcelana',\n",
       " 'laboratorio',\n",
       " 'invernal',\n",
       " 'respondía',\n",
       " 'invernal',\n",
       " 'batas',\n",
       " 'trabajadores',\n",
       " 'blancas',\n",
       " 'éstos',\n",
       " 'llevaban',\n",
       " 'manos',\n",
       " 'enfundadas',\n",
       " 'guantes',\n",
       " 'goma',\n",
       " 'color',\n",
       " 'pálido',\n",
       " 'cadáver',\n",
       " 'luz',\n",
       " 'helada',\n",
       " 'muerta',\n",
       " 'fantasmal',\n",
       " 'sólo',\n",
       " 'amarillos',\n",
       " 'cilindros',\n",
       " 'microscopios',\n",
       " 'lograba',\n",
       " 'arrancar',\n",
       " 'cierta',\n",
       " 'calidad',\n",
       " 'vida',\n",
       " 'deslizándose',\n",
       " 'largo',\n",
       " 'tubos',\n",
       " 'formando',\n",
       " 'dilatada',\n",
       " 'procesión',\n",
       " 'trazos',\n",
       " 'luminosos',\n",
       " 'seguían',\n",
       " 'larga',\n",
       " 'perspectiva',\n",
       " 'mesas',\n",
       " 'trabajo']"
      ]
     },
     "execution_count": 111,
     "metadata": {},
     "output_type": "execute_result"
    }
   ],
   "source": [
    "text"
   ]
  },
  {
   "cell_type": "code",
   "execution_count": 96,
   "metadata": {},
   "outputs": [
    {
     "name": "stdout",
     "output_type": "stream",
     "text": [
      "si\n"
     ]
    }
   ],
   "source": [
    "for word in stopWords:\n",
    "    if (word == 'y'):\n",
    "        print('si')"
   ]
  },
  {
   "cell_type": "code",
   "execution_count": null,
   "metadata": {},
   "outputs": [],
   "source": []
  }
 ],
 "metadata": {
  "kernelspec": {
   "display_name": "Python 3",
   "language": "python",
   "name": "python3"
  },
  "language_info": {
   "codemirror_mode": {
    "name": "ipython",
    "version": 3
   },
   "file_extension": ".py",
   "mimetype": "text/x-python",
   "name": "python",
   "nbconvert_exporter": "python",
   "pygments_lexer": "ipython3",
   "version": "3.7.1"
  }
 },
 "nbformat": 4,
 "nbformat_minor": 2
}
