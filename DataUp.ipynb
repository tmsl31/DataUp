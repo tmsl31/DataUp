{
 "cells": [
  {
   "cell_type": "markdown",
   "metadata": {},
   "source": [
    "# DataUp"
   ]
  },
  {
   "cell_type": "markdown",
   "metadata": {},
   "source": [
    "Proyecto del curso \"Taller de Proyecto\". Análisis de entrevistas utilizando procesamiento de voz y técnicas de análisis de texto"
   ]
  },
  {
   "cell_type": "code",
   "execution_count": 1,
   "metadata": {},
   "outputs": [],
   "source": [
    "#Imports\n",
    "import numpy as np\n",
    "import pandas as pd\n",
    "import speech_recognition as sr #Speech Recognition\n",
    "from os import path\n",
    "import matplotlib.pyplot as plt\n",
    "#Pre procesamiento\n",
    "import re\n",
    "import nltk\n",
    "#nltk.download('stopwords')\n",
    "from nltk.corpus import stopwords\n",
    "from nltk.stem.porter import PorterStemmer\n",
    "from nltk.tokenize import RegexpTokenizer\n",
    "#nltk.download('wordnet')\n",
    "from nltk.stem.wordnet import WordNetLemmatizer"
   ]
  },
  {
   "cell_type": "markdown",
   "metadata": {},
   "source": [
    "## 1.- Procesamiento de Voz"
   ]
  },
  {
   "cell_type": "code",
   "execution_count": null,
   "metadata": {},
   "outputs": [],
   "source": []
  },
  {
   "cell_type": "markdown",
   "metadata": {},
   "source": [
    "## 2.- Análisis del Texto"
   ]
  },
  {
   "cell_type": "markdown",
   "metadata": {},
   "source": [
    "### 2.1.- Pre-procesamiento"
   ]
  },
  {
   "cell_type": "code",
   "execution_count": 10,
   "metadata": {},
   "outputs": [],
   "source": [
    "texto = \"Un edificio gris, achaparrado, de sólo treinta y 4 plantas. Encima de la entrada principal las palabras: Centro de Incubacion y Condicionamiento de la Central de Londres, y, en un escudo, la divisa del Estado Mundial: Comunidad, Identidad, Estabilidad. Dentro, la enorme sala de la planta baja se hallaba orientada hacia el Norte. Fría a pesar del verano que reinaba en el exterior y del calor tropical de la sala, una luz cruda se filtraba a través de las ventanas buscando ávidamente algún cuerpo amortajado o alguna figura pálida, producto de las disecciones académicas; sin encontrar más que el cristal, el níquel y la brillante porcelana de un laboratorio. Lo invernal respondía a lo invernal. Las batas de los trabajadores eran blancas, y éstos llevaban las manos enfundadas en guantes de goma de un color pálido, como de cadáver. La luz era helada, muerta, fantasmal. Sólo de los amarillos cilindros de los microscopios se lograba arrancar cierta calidad de vida, deslizándose a lo largo de los tubos y formando una dilatada procesión de trazos luminosos que seguían la larga perspectiva de las mesas de trabajo.\"\n",
    "pandasText = pd.DataFrame([texto],columns = ['Texto'], index = [1])\n",
    "texto1 = \"Dulzor, 5; Amargor, 1; Burbujas; 10\"\n",
    "pandasText1 = pd.DataFrame([texto1],columns = ['Texto'], index = [1])"
   ]
  },
  {
   "cell_type": "markdown",
   "metadata": {},
   "source": [
    "#### 2.1.1.- Eliminacion de stopwords y ruido"
   ]
  },
  {
   "cell_type": "markdown",
   "metadata": {},
   "source": [
    "Removing stopwords: Stop words include the large number of prepositions, pronouns, conjunctions etc in sentences. These words need to be removed before we analyse the text, so that the frequently used words are mainly the words relevant to the context and not common words used in the text."
   ]
  },
  {
   "cell_type": "code",
   "execution_count": 3,
   "metadata": {},
   "outputs": [],
   "source": [
    "#Lista de stop words en espanol. Util para elminaras del texto original.\n",
    "stopWords = set(stopwords.words(\"spanish\"))"
   ]
  },
  {
   "cell_type": "code",
   "execution_count": 4,
   "metadata": {},
   "outputs": [],
   "source": [
    "def preProcesamiento(textoPandas,stopWords, deleteStopWords = 1, lemanizar= 0):\n",
    "    #Funcion que realiza el preProcesamiento del texto.\n",
    "    \n",
    "    #Convertir a Pandas.\n",
    "    text = textoPandas['Texto'][1]\n",
    "    #Pasar a minusculas.\n",
    "    text = text.lower()\n",
    "    #Eliminar comas y simbolos.\n",
    "    text = re.sub(r'[^\\w\\s]','',text)\n",
    "    #Convertir a vector de palabras.\n",
    "    text = text.split()\n",
    "    #Eliminar stopWords\n",
    "    text = [word for word in text if not word in stopWords]\n",
    "    #Decidir si lemanizar o no\n",
    "    if lemanizar == 1:\n",
    "        lem = WordNetLemmatizer()\n",
    "        text = np.array([lem.lemmatize(word) for word in text])\n",
    "    return text"
   ]
  },
  {
   "cell_type": "code",
   "execution_count": 5,
   "metadata": {},
   "outputs": [],
   "source": [
    "#Generar el texto preProcesado. Se entrega un vector con las palabras clave.\n",
    "text = preProcesamiento(pandasText,stopWords,lemanizar=1)"
   ]
  },
  {
   "cell_type": "code",
   "execution_count": 6,
   "metadata": {},
   "outputs": [
    {
     "data": {
      "text/plain": [
       "array(['edificio', 'gris', 'achaparrado', 'sólo', 'treinta', '4',\n",
       "       'plantas', 'encima', 'entrada', 'principal', 'palabras', 'centro',\n",
       "       'incubacion', 'condicionamiento', 'central', 'londres', 'escudo',\n",
       "       'divisa', 'mundial', 'comunidad', 'identidad', 'estabilidad',\n",
       "       'dentro', 'enorme', 'sala', 'planta', 'baja', 'hallaba',\n",
       "       'orientada', 'hacia', 'norte', 'fría', 'pesar', 'verano',\n",
       "       'reinaba', 'exterior', 'calor', 'tropical', 'sala', 'luz', 'cruda',\n",
       "       'filtraba', 'través', 'ventanas', 'buscando', 'ávidamente',\n",
       "       'algún', 'cuerpo', 'amortajado', 'alguna', 'figura', 'pálida',\n",
       "       'producto', 'disecciones', 'académicas', 'encontrar', 'cristal',\n",
       "       'níquel', 'brillante', 'porcelana', 'laboratorio', 'invernal',\n",
       "       'respondía', 'invernal', 'bata', 'trabajadores', 'blancas',\n",
       "       'éstos', 'llevaban', 'manos', 'enfundadas', 'guantes', 'goma',\n",
       "       'color', 'pálido', 'cadáver', 'luz', 'helada', 'muerta',\n",
       "       'fantasmal', 'sólo', 'amarillo', 'cilindros', 'microscopios',\n",
       "       'lograba', 'arrancar', 'cierta', 'calidad', 'vida', 'deslizándose',\n",
       "       'largo', 'tubos', 'formando', 'dilatada', 'procesión', 'trazos',\n",
       "       'luminosos', 'seguían', 'larga', 'perspectiva', 'mesa', 'trabajo'],\n",
       "      dtype='<U16')"
      ]
     },
     "execution_count": 6,
     "metadata": {},
     "output_type": "execute_result"
    }
   ],
   "source": [
    "text"
   ]
  },
  {
   "cell_type": "code",
   "execution_count": 40,
   "metadata": {},
   "outputs": [],
   "source": [
    "def stringNumerico (word):\n",
    "    #Funcion que verifica si un string es numerico\n",
    "    try:\n",
    "        val = int(word)\n",
    "        output = True\n",
    "    except ValueError:\n",
    "        output = False\n",
    "    return output\n",
    "\n",
    "#Funcion que realiza la busqueda de la calificacion.\n",
    "def buscarValorAsociado(caracteristica, vectorTexto):\n",
    "    indiceCaracteristica = np.where(vectorTexto == caracteristica)\n",
    "    calificacion = int(vectorTexto[indiceCaracteristica[0]+1])\n",
    "    return calificacion"
   ]
  },
  {
   "cell_type": "code",
   "execution_count": 41,
   "metadata": {},
   "outputs": [],
   "source": [
    "#Generar el texto preProcesado. Se entrega un vector con las palabras clave.\n",
    "text1 = preProcesamiento(pandasText1,stopWords,lemanizar=1)"
   ]
  },
  {
   "cell_type": "code",
   "execution_count": 42,
   "metadata": {},
   "outputs": [
    {
     "data": {
      "text/plain": [
       "array(['dulzor', '5', 'amargor', '1', 'burbujas', '10'], dtype='<U8')"
      ]
     },
     "execution_count": 42,
     "metadata": {},
     "output_type": "execute_result"
    }
   ],
   "source": [
    "text1"
   ]
  },
  {
   "cell_type": "code",
   "execution_count": 43,
   "metadata": {},
   "outputs": [
    {
     "data": {
      "text/plain": [
       "1"
      ]
     },
     "execution_count": 43,
     "metadata": {},
     "output_type": "execute_result"
    }
   ],
   "source": [
    "buscarValorAsociado('amargor',text1)"
   ]
  },
  {
   "cell_type": "code",
   "execution_count": null,
   "metadata": {},
   "outputs": [],
   "source": []
  },
  {
   "cell_type": "code",
   "execution_count": null,
   "metadata": {},
   "outputs": [],
   "source": []
  }
 ],
 "metadata": {
  "kernelspec": {
   "display_name": "Python 3",
   "language": "python",
   "name": "python3"
  },
  "language_info": {
   "codemirror_mode": {
    "name": "ipython",
    "version": 3
   },
   "file_extension": ".py",
   "mimetype": "text/x-python",
   "name": "python",
   "nbconvert_exporter": "python",
   "pygments_lexer": "ipython3",
   "version": "3.7.1"
  }
 },
 "nbformat": 4,
 "nbformat_minor": 2
}
