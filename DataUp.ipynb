{
 "cells": [
  {
   "cell_type": "markdown",
   "metadata": {},
   "source": [
    "# DataUp"
   ]
  },
  {
   "cell_type": "markdown",
   "metadata": {},
   "source": [
    "Proyecto del curso \"Taller de Proyecto\". Análisis de entrevistas utilizando procesamiento de voz y técnicas de análisis de texto"
   ]
  },
  {
   "cell_type": "code",
   "execution_count": 36,
   "metadata": {},
   "outputs": [],
   "source": [
    "#Imports\n",
    "#Genericas.\n",
    "import numpy as np\n",
    "import pandas as pd\n",
    "from os import path\n",
    "import matplotlib.pyplot as plt\n",
    "#Reconocimiento de voz.\n",
    "import speech_recognition as sr\n",
    "import pyaudio\n",
    "#Procesamiento de texto.\n",
    "import re\n",
    "import nltk\n",
    "#nltk.download('stopwords')\n",
    "#nltk.download('wordnet')\n",
    "from nltk.corpus import stopwords\n",
    "from nltk.stem.porter import PorterStemmer\n",
    "from nltk.tokenize import RegexpTokenizer\n",
    "\n",
    "from nltk.stem.wordnet import WordNetLemmatizer\n",
    "\n",
    "import plotly.plotly as py\n",
    "import plotly.graph_objs as go"
   ]
  },
  {
   "cell_type": "markdown",
   "metadata": {},
   "source": [
    "## 1.- Procesamiento de Voz"
   ]
  },
  {
   "cell_type": "code",
   "execution_count": 14,
   "metadata": {},
   "outputs": [],
   "source": [
    "#Captura \n",
    "def capturaAudio(tiempoEspera = 5):\n",
    "    r = sr.Recognizer()\n",
    "    with sr.Microphone() as source:\n",
    "        #Ajuste a piso de ruido.\n",
    "        r.adjust_for_ambient_noise(source)\n",
    "        print('Comience el audio')\n",
    "        #Iniciar escucha.\n",
    "        audio = r.listen(source, timeout = tiempoEspera)\n",
    "        try:\n",
    "            # for testing purposes, we're just using the default API key\n",
    "            # to use another API key, use `r.recognize_google(audio, key=\"GOOGLE_SPEECH_RECOGNITION_API_KEY\")`\n",
    "            # instead of `r.recognize_google(audio)`\n",
    "            texto = r.recognize_google(audio,language=\"es-CL\")\n",
    "            print(\"Google Speech Recognition thinks you said \" + texto)\n",
    "        except sr.UnknownValueError:\n",
    "            print(\"Google Speech Recognition could not understand audio\")\n",
    "        except sr.RequestError as e:\n",
    "            print(\"Could not request results from Google Speech Recognition service; {0}\".format(e))\n",
    "        print ('Termino de audio')\n",
    "        \n",
    "        return texto"
   ]
  },
  {
   "cell_type": "code",
   "execution_count": 20,
   "metadata": {},
   "outputs": [
    {
     "name": "stdout",
     "output_type": "stream",
     "text": [
      "Comience el audio\n",
      "Google Speech Recognition thinks you said dulzura dulce dulce dulcísimo dulce dulce dulce dulce amargo amargo amargo amargo amargo\n",
      "Termino de audio\n"
     ]
    }
   ],
   "source": [
    "audioPrueba = capturaAudio()"
   ]
  },
  {
   "cell_type": "code",
   "execution_count": 21,
   "metadata": {},
   "outputs": [
    {
     "data": {
      "text/plain": [
       "'dulzura dulce dulce dulcísimo dulce dulce dulce dulce amargo amargo amargo amargo amargo'"
      ]
     },
     "execution_count": 21,
     "metadata": {},
     "output_type": "execute_result"
    }
   ],
   "source": [
    "audioPrueba"
   ]
  },
  {
   "cell_type": "code",
   "execution_count": 2,
   "metadata": {},
   "outputs": [],
   "source": [
    "#texto1 = \"Dulzor, 5; Amargor, 1; Burbujas; 10\",\n",
    "texto2 = \"El encuestado opino que la bebida tenia un dulzor de aproximadamente cinco ; asigno a amargura un 1 y a burbujeo un diez\"\n",
    "audioPrueba = texto2"
   ]
  },
  {
   "cell_type": "markdown",
   "metadata": {},
   "source": [
    "## 2.- Análisis del Texto"
   ]
  },
  {
   "cell_type": "markdown",
   "metadata": {},
   "source": [
    "### 2.1.- Pre-procesamiento"
   ]
  },
  {
   "cell_type": "markdown",
   "metadata": {},
   "source": [
    "#### 2.1.1.- Eliminacion de stopwords y ruido"
   ]
  },
  {
   "cell_type": "markdown",
   "metadata": {},
   "source": [
    "Removing stopwords: Stop words include the large number of prepositions, pronouns, conjunctions etc in sentences. These words need to be removed before we analyse the text, so that the frequently used words are mainly the words relevant to the context and not common words used in the text."
   ]
  },
  {
   "cell_type": "code",
   "execution_count": 3,
   "metadata": {},
   "outputs": [],
   "source": [
    "#Lista de stop words en espanol. Util para elminaras del texto original.\n",
    "stopWords = set(stopwords.words(\"spanish\"))"
   ]
  },
  {
   "cell_type": "code",
   "execution_count": 4,
   "metadata": {},
   "outputs": [],
   "source": [
    "def pasoPanda(texto):\n",
    "    output = pd.DataFrame([texto],columns = ['Texto'], index = [1])\n",
    "    return output\n",
    "\n",
    "def preProcesamiento(textoPandas,stopWords, deleteStopWords = 1, lemanizar= 0):\n",
    "    #Funcion que realiza el preProcesamiento del texto.\n",
    "    \n",
    "    #Convertir a Pandas.\n",
    "    text = textoPandas['Texto'][1]\n",
    "    #Pasar a minusculas.\n",
    "    text = text.lower()\n",
    "    #Eliminar comas y simbolos.\n",
    "    text = re.sub(r'[^\\w\\s]','',text)\n",
    "    #Convertir a vector de palabras.\n",
    "    text = text.split()\n",
    "    #Eliminar stopWords\n",
    "    text = [word for word in text if not word in stopWords]\n",
    "    #Decidir si lemanizar o no\n",
    "    if lemanizar == 1:\n",
    "        lem = WordNetLemmatizer()\n",
    "        text = np.array([lem.lemmatize(word) for word in text])\n",
    "    elif lemanizar == 2:\n",
    "        stem = PorterStemmer()\n",
    "        text = np.array([stem.stem(word) for word in text])\n",
    "    return text"
   ]
  },
  {
   "cell_type": "code",
   "execution_count": 5,
   "metadata": {},
   "outputs": [],
   "source": [
    "#Funcion que pase de numeros en palabras a en digitos.\n",
    "def text2int (textnum, numwords={}):\n",
    "    if not numwords:\n",
    "        units = [\n",
    "        \"cero\", \"uno\", \"dos\", \"tres\", \"cuatro\", \"cinco\", \"seis\", \"siete\", \"ocho\",\n",
    "        \"nueve\", \"diez\", \"once\", \"doce\"]\n",
    "\n",
    "        diccionario = {units[0]:0,units[1]:1,units[2]:2,units[3]:3,units[4]:4,units[5]:5, units[6]:6, units[7]:7,units[8]:8,units[9]:9,units[10]:10,units[11]:11,units[12]:12}\n",
    "    \n",
    "    copiaTextNum = textnum;\n",
    "    count = 0\n",
    "    for word in copiaTextNum:\n",
    "        if word not in units:\n",
    "            count += 1\n",
    "        else:\n",
    "            copiaTextNum[count] = str(diccionario[word]);\n",
    "            count += 1\n",
    "\n",
    "    return copiaTextNum"
   ]
  },
  {
   "cell_type": "code",
   "execution_count": 6,
   "metadata": {},
   "outputs": [],
   "source": [
    "#audioPrueba = text2int(audioPrueba)\n",
    "#Paso del audio a textoPanda\n",
    "texto = pasoPanda(audioPrueba)\n",
    "#text2int(audioPrueba)"
   ]
  },
  {
   "cell_type": "code",
   "execution_count": 7,
   "metadata": {},
   "outputs": [],
   "source": [
    "#Generar el texto preProcesado. Se entrega un vector con las palabras clave.\n",
    "textPre = preProcesamiento(texto,stopWords,lemanizar=0)"
   ]
  },
  {
   "cell_type": "markdown",
   "metadata": {},
   "source": [
    "#### 2.1.2 Homologar sinonimos."
   ]
  },
  {
   "cell_type": "markdown",
   "metadata": {},
   "source": [
    "Se pasan los sinonimos de las características a estudiar a para realizar un adecuado procesamiento del texto y encontrar las calificaciones indicadas por l@s usuari@s."
   ]
  },
  {
   "cell_type": "code",
   "execution_count": 8,
   "metadata": {},
   "outputs": [],
   "source": [
    "#Generación del diccionario. Diccionario de las características que mediremos.\n",
    "sinonimosDulce = ['dulce','dulzón', 'azucarado', 'acaramelado', 'dulcificado','dulzor']\n",
    "sinonimosAmargo = ['amargo', 'agrio', 'aspero','amargor','agriedad','amargura']\n",
    "sinonimosBurbujas = ['burbujas', 'burbujeo', 'efervescencia', 'espuma', 'efervescente', 'burbujeo', 'burbujear']"
   ]
  },
  {
   "cell_type": "code",
   "execution_count": 9,
   "metadata": {},
   "outputs": [],
   "source": [
    "def homologarSinonimosUnaPalabra(vectorTexto,sinonimos):\n",
    "    #Numero de palabras de la grabación.\n",
    "    numeroPalabras = len(vectorTexto)\n",
    "    #Casos para cada palabra\n",
    "    count = 0\n",
    "    while count < numeroPalabras:\n",
    "        if vectorTexto[count] in sinonimos:\n",
    "            vectorTexto[count] = sinonimos[0]\n",
    "        count += 1\n",
    "    return vectorTexto    \n",
    "\n",
    "def homologarSinonimos(texto):\n",
    "    #Metodo que realice el cambio de palabras para las caracteristicas de interes.\n",
    "    texto = homologarSinonimosUnaPalabra(texto,sinonimosDulce)\n",
    "    texto = homologarSinonimosUnaPalabra(texto,sinonimosAmargo)\n",
    "    texto = homologarSinonimosUnaPalabra(texto,sinonimosBurbujas)\n",
    "    return texto"
   ]
  },
  {
   "cell_type": "code",
   "execution_count": 78,
   "metadata": {},
   "outputs": [
    {
     "data": {
      "text/plain": [
       "['encuestado',\n",
       " 'opino',\n",
       " 'bebida',\n",
       " 'tenia',\n",
       " 'dulce',\n",
       " 'aproximadamente',\n",
       " '5',\n",
       " 'asigno',\n",
       " 'amargo',\n",
       " '1',\n",
       " 'burbujas',\n",
       " '10']"
      ]
     },
     "execution_count": 78,
     "metadata": {},
     "output_type": "execute_result"
    }
   ],
   "source": [
    "textoPre = homologarSinonimos(textPre)\n",
    "textoPre"
   ]
  },
  {
   "cell_type": "code",
   "execution_count": 79,
   "metadata": {},
   "outputs": [
    {
     "data": {
      "text/plain": [
       "['encuestado',\n",
       " 'opino',\n",
       " 'bebida',\n",
       " 'tenia',\n",
       " 'dulce',\n",
       " 'aproximadamente',\n",
       " '5',\n",
       " 'asigno',\n",
       " 'amargo',\n",
       " '1',\n",
       " 'burbujas',\n",
       " '10']"
      ]
     },
     "execution_count": 79,
     "metadata": {},
     "output_type": "execute_result"
    }
   ],
   "source": [
    "text2int(textoPre)"
   ]
  },
  {
   "cell_type": "markdown",
   "metadata": {},
   "source": [
    "### 2.2 Búsquedad de calificaciones"
   ]
  },
  {
   "cell_type": "code",
   "execution_count": 80,
   "metadata": {},
   "outputs": [],
   "source": [
    "def stringNumerico (word):\n",
    "    #Funcion que verifica si un string es numerico\n",
    "    try:\n",
    "        val = int(word)\n",
    "        output = True\n",
    "    except ValueError:\n",
    "        output = False\n",
    "    return output\n",
    "\n",
    "#Funcion que realiza la busqueda de la calificacion.\n",
    "def buscarValorAsociado(caracteristica, vectorTexto):\n",
    "    indiceCaracteristica = np.where(vectorTexto == caracteristica)\n",
    "    calificacion = int(vectorTexto[indiceCaracteristica[0]+1])\n",
    "    return calificacion"
   ]
  },
  {
   "cell_type": "code",
   "execution_count": 81,
   "metadata": {},
   "outputs": [],
   "source": [
    "def buscarDespues(indiceCar,vecCaracteristicas,text,maxVentana):\n",
    "    #Funcion que realiza busqueda hacia adelante.\n",
    "    \n",
    "    #Entregables.\n",
    "    cond = False;\n",
    "    calificacion = 'NS/NR'\n",
    "    #Valores de indice.\n",
    "    valoresIndice = np.arange(indiceCar+1,indiceCar+maxVentana)\n",
    "    #Largo del texto.\n",
    "    largoTexto = text.shape[0]\n",
    "    #Ciclo de busqueda\n",
    "    for indice in valoresIndice:\n",
    "        if (indice >= largoTexto):\n",
    "            #Caso en que el indice supere el largo del texto.\n",
    "            break\n",
    "        elif (text[indice] in vecCaracteristicas):\n",
    "            #Caso en que se encuentre con otra caracteristica.\n",
    "            break\n",
    "        else:\n",
    "            #Caso en que la palabra no es una caracteristica.\n",
    "            if (stringNumerico(text[indice])):\n",
    "                #Caso en que el string es un string numerico.\n",
    "                cond = True\n",
    "                calificacion = int(text[indice])\n",
    "                break\n",
    "                \n",
    "    return cond,calificacion\n",
    "\n",
    "def buscarAntes(indiceCar,vecCaracteristicas,text,maxVentana):\n",
    "    #Funcion que realiza busqueda hacia adelante.\n",
    "    \n",
    "    #Entregables.\n",
    "    cond = False;\n",
    "    calificacion = 'NS/NR'\n",
    "    #Valores de indice.\n",
    "    indiceFinal = indiceCar-maxVentana\n",
    "    valoresIndice = np.arange(indiceCar-1,indiceFinal, -1)\n",
    "    #Ciclo de busqueda\n",
    "    for indice in valoresIndice:\n",
    "        if (indice < 0):\n",
    "            #Caso en que el indice llegue a valores negativos.\n",
    "            break\n",
    "        elif (text[indice] in vecCaracteristicas):\n",
    "            #Caso en que se encuentre con otra caracteristica.\n",
    "            break\n",
    "        else:\n",
    "            #Caso en que la palabra no es una caracteristica.\n",
    "            if (stringNumerico(text[indice])):\n",
    "                #Caso en que el string es un string numerico.\n",
    "                cond = True\n",
    "                calificacion = int(text[indice])\n",
    "                break\n",
    "                \n",
    "    return cond,calificacion\n",
    "    \n",
    "def buscarCalificacion(caracteristica,vecCaracteristicas,texto,maxVentana = 3):\n",
    "    #Funcion que busque la calificacion asociada a una caracteristica.\n",
    "    \n",
    "    #Pasar a arreglo de numpy.\n",
    "    text = np.array(texto)\n",
    "    #Buscar la/las posicion/posiciones de la característica.\n",
    "    indices = np.where(text==caracteristica);\n",
    "    for indiceCar in indices:\n",
    "        cond,calificacion = buscarDespues(indiceCar,vecCaracteristicas,text,maxVentana)\n",
    "        if (cond):\n",
    "            break\n",
    "        else:\n",
    "            cond,calificacion = buscarAntes(indiceCar,vecCaracteristicas,text,maxVentana)\n",
    "            if(cond):\n",
    "                break\n",
    "    return calificacion\n",
    "\n",
    "def buscarCalificaciones(vectorCaracteristicas,texto, maxVentana = 3):\n",
    "    #Funcion que busque las relaciones entre las caracteristicas y sus calificaciones.\n",
    "    \n",
    "    #Vector de calificaciones a almacenar.\n",
    "    vecCalificaciones = np.array([])\n",
    "    \n",
    "    for caracteristica in vectorCaracteristicas:\n",
    "        #Buscar la calificacion.\n",
    "        calif = buscarCalificacion(caracteristica,vectorCaracteristicas,texto,maxVentana)\n",
    "        #Agregar la calificacion al vector,\n",
    "        vecCalificaciones = np.append(vecCalificaciones,calif)\n",
    "    return vectorCaracteristicas, vecCalificaciones"
   ]
  },
  {
   "cell_type": "code",
   "execution_count": 82,
   "metadata": {},
   "outputs": [],
   "source": [
    "caracts,califs = buscarCalificaciones(['dulce','amargo','burbujas'],textoPre,maxVentana = 3)"
   ]
  },
  {
   "cell_type": "code",
   "execution_count": 83,
   "metadata": {},
   "outputs": [
    {
     "name": "stdout",
     "output_type": "stream",
     "text": [
      "['dulce', 'amargo', 'burbujas'] [ 5.  1. 10.]\n"
     ]
    }
   ],
   "source": [
    "print(caracts,califs)"
   ]
  },
  {
   "cell_type": "code",
   "execution_count": 84,
   "metadata": {},
   "outputs": [
    {
     "data": {
      "text/plain": [
       "3"
      ]
     },
     "execution_count": 84,
     "metadata": {},
     "output_type": "execute_result"
    }
   ],
   "source": [
    "len(caracts)"
   ]
  },
  {
   "cell_type": "markdown",
   "metadata": {},
   "source": [
    "## 3.- Visualización rápida"
   ]
  },
  {
   "cell_type": "code",
   "execution_count": 87,
   "metadata": {},
   "outputs": [],
   "source": [
    "def visualizacion(caracteristicas, calificaciones):\n",
    "    #Visualizacion rapida de caracteristicas\n",
    "    \n",
    "    #Numero de calificaciones.\n",
    "    AttNo = len(caracteristicas)\n",
    "    #Generacion del grafico.\n",
    "    ax = plt.subplot(111, polar = True)\n",
    "    #Definicion de los angulos.\n",
    "    angles = [n / float(AttNo) * 2 * np.pi for n in range(AttNo)]\n",
    "    angles += angles [:1]\n",
    "    #\n",
    "    #caracteristicas += caracteristicas[:1]\n",
    "    calificaciones = np.append(calificaciones,calificaciones[:1])\n",
    "    #Agregar los atributos al grafico.\n",
    "    plt.xticks(angles,caracteristicas)\n",
    "    #\n",
    "    ax.plot(angles,calificaciones)\n",
    "    #\n",
    "    #Fill in the area plotted in the last line\n",
    "    ax.fill(angles, calificaciones, 'teal', alpha=0.1)\n",
    "    #Titulo.\n",
    "    ax.set_title(\"Resultados encuesta\")\n",
    "    plt.show()"
   ]
  },
  {
   "cell_type": "code",
   "execution_count": 88,
   "metadata": {},
   "outputs": [
    {
     "data": {
      "image/png": "[encoded data removed]",
      "text/plain": [
       "<Figure size 432x288 with 1 Axes>"
      ]
     },
     "metadata": {
      "needs_background": "light"
     },
     "output_type": "display_data"
    }
   ],
   "source": [
    " visualizacion(caracts,califs)"
   ]
  },
  {
   "cell_type": "code",
   "execution_count": null,
   "metadata": {},
   "outputs": [],
   "source": []
  },
  {
   "cell_type": "code",
   "execution_count": null,
   "metadata": {},
   "outputs": [],
   "source": []
  }
 ],
 "metadata": {
  "kernelspec": {
   "display_name": "Python 3",
   "language": "python",
   "name": "python3"
  },
  "language_info": {
   "codemirror_mode": {
    "name": "ipython",
    "version": 3
   },
   "file_extension": ".py",
   "mimetype": "text/x-python",
   "name": "python",
   "nbconvert_exporter": "python",
   "pygments_lexer": "ipython3",
   "version": "3.7.1"
  }
 },
 "nbformat": 4,
 "nbformat_minor": 2
}
