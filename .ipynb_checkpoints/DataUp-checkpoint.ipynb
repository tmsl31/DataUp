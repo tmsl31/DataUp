{
 "cells": [
  {
   "cell_type": "markdown",
   "metadata": {},
   "source": [
    "# DataUp"
   ]
  },
  {
   "cell_type": "markdown",
   "metadata": {},
   "source": [
    "Proyecto del curso \"Taller de Proyecto\". Análisis de entrevistas utilizando procesamiento de voz y técnicas de análisis de texto"
   ]
  },
  {
   "cell_type": "code",
   "execution_count": 2,
   "metadata": {},
   "outputs": [],
   "source": [
    "#Imports\n",
    "#Genericas.\n",
    "import numpy as np\n",
    "import pandas as pd\n",
    "from os import path\n",
    "import matplotlib.pyplot as plt\n",
    "#Reconocimiento de voz.\n",
    "import speech_recognition as sr\n",
    "import pyaudio\n",
    "#Procesamiento de texto.\n",
    "import re\n",
    "import nltk\n",
    "#nltk.download('stopwords')\n",
    "#nltk.download('wordnet')\n",
    "from nltk.corpus import stopwords\n",
    "from nltk.stem.porter import PorterStemmer\n",
    "from nltk.tokenize import RegexpTokenizer\n",
    "\n",
    "from nltk.stem.wordnet import WordNetLemmatizer"
   ]
  },
  {
   "cell_type": "markdown",
   "metadata": {},
   "source": [
    "## 1.- Procesamiento de Voz"
   ]
  },
  {
   "cell_type": "code",
   "execution_count": 14,
   "metadata": {},
   "outputs": [],
   "source": [
    "#Captura \n",
    "def capturaAudio(tiempoEspera = 5):\n",
    "    r = sr.Recognizer()\n",
    "    with sr.Microphone() as source:\n",
    "        #Ajuste a piso de ruido.\n",
    "        r.adjust_for_ambient_noise(source)\n",
    "        print('Comience el audio')\n",
    "        #Iniciar escucha.\n",
    "        audio = r.listen(source, timeout = tiempoEspera)\n",
    "        try:\n",
    "            # for testing purposes, we're just using the default API key\n",
    "            # to use another API key, use `r.recognize_google(audio, key=\"GOOGLE_SPEECH_RECOGNITION_API_KEY\")`\n",
    "            # instead of `r.recognize_google(audio)`\n",
    "            texto = r.recognize_google(audio,language=\"es-CL\")\n",
    "            print(\"Google Speech Recognition thinks you said \" + texto)\n",
    "        except sr.UnknownValueError:\n",
    "            print(\"Google Speech Recognition could not understand audio\")\n",
    "        except sr.RequestError as e:\n",
    "            print(\"Could not request results from Google Speech Recognition service; {0}\".format(e))\n",
    "        print ('Termino de audio')\n",
    "        \n",
    "        return texto"
   ]
  },
  {
   "cell_type": "code",
   "execution_count": 20,
   "metadata": {},
   "outputs": [
    {
     "name": "stdout",
     "output_type": "stream",
     "text": [
      "Comience el audio\n",
      "Google Speech Recognition thinks you said dulzura dulce dulce dulcísimo dulce dulce dulce dulce amargo amargo amargo amargo amargo\n",
      "Termino de audio\n"
     ]
    }
   ],
   "source": [
    "audioPrueba = capturaAudio()"
   ]
  },
  {
   "cell_type": "code",
   "execution_count": 21,
   "metadata": {},
   "outputs": [
    {
     "data": {
      "text/plain": [
       "'dulzura dulce dulce dulcísimo dulce dulce dulce dulce amargo amargo amargo amargo amargo'"
      ]
     },
     "execution_count": 21,
     "metadata": {},
     "output_type": "execute_result"
    }
   ],
   "source": [
    "audioPrueba"
   ]
  },
  {
   "cell_type": "code",
   "execution_count": 18,
   "metadata": {},
   "outputs": [],
   "source": [
    "#texto1 = \"Dulzor, 5; Amargor, 1; Burbujas; 10\",\n",
    "texto2 = \"El encuestado opino que la bebida tenia un dulzor 5; asigno a amargura un 1 y a burbujeo un 10\"\n",
    "audioPrueba = texto2"
   ]
  },
  {
   "cell_type": "markdown",
   "metadata": {},
   "source": [
    "## 2.- Análisis del Texto"
   ]
  },
  {
   "cell_type": "markdown",
   "metadata": {},
   "source": [
    "### 2.1.- Pre-procesamiento"
   ]
  },
  {
   "cell_type": "markdown",
   "metadata": {},
   "source": [
    "#### 2.1.1.- Eliminacion de stopwords y ruido"
   ]
  },
  {
   "cell_type": "markdown",
   "metadata": {},
   "source": [
    "Removing stopwords: Stop words include the large number of prepositions, pronouns, conjunctions etc in sentences. These words need to be removed before we analyse the text, so that the frequently used words are mainly the words relevant to the context and not common words used in the text."
   ]
  },
  {
   "cell_type": "code",
   "execution_count": 19,
   "metadata": {},
   "outputs": [],
   "source": [
    "#Lista de stop words en espanol. Util para elminaras del texto original.\n",
    "stopWords = set(stopwords.words(\"spanish\"))"
   ]
  },
  {
   "cell_type": "code",
   "execution_count": 20,
   "metadata": {},
   "outputs": [],
   "source": [
    "def pasoPanda(texto):\n",
    "    output = pd.DataFrame([texto],columns = ['Texto'], index = [1])\n",
    "    return output\n",
    "\n",
    "def preProcesamiento(textoPandas,stopWords, deleteStopWords = 1, lemanizar= 0):\n",
    "    #Funcion que realiza el preProcesamiento del texto.\n",
    "    \n",
    "    #Convertir a Pandas.\n",
    "    text = textoPandas['Texto'][1]\n",
    "    #Pasar a minusculas.\n",
    "    text = text.lower()\n",
    "    #Eliminar comas y simbolos.\n",
    "    text = re.sub(r'[^\\w\\s]','',text)\n",
    "    #Convertir a vector de palabras.\n",
    "    text = text.split()\n",
    "    #Eliminar stopWords\n",
    "    text = [word for word in text if not word in stopWords]\n",
    "    #Decidir si lemanizar o no\n",
    "    if lemanizar == 1:\n",
    "        lem = WordNetLemmatizer()\n",
    "        text = np.array([lem.lemmatize(word) for word in text])\n",
    "    elif lemanizar == 2:\n",
    "        stem = PorterStemmer()\n",
    "        text = np.array([stem.stem(word) for word in text])\n",
    "    return text"
   ]
  },
  {
   "cell_type": "code",
   "execution_count": 21,
   "metadata": {},
   "outputs": [],
   "source": [
    "#Paso del audio a textoPanda\n",
    "texto = pasoPanda(audioPrueba)"
   ]
  },
  {
   "cell_type": "code",
   "execution_count": 22,
   "metadata": {},
   "outputs": [],
   "source": [
    "#Generar el texto preProcesado. Se entrega un vector con las palabras clave.\n",
    "textPre = preProcesamiento(texto,stopWords,lemanizar=0)"
   ]
  },
  {
   "cell_type": "markdown",
   "metadata": {},
   "source": [
    "#### 2.1.2 Homologar sinonimos."
   ]
  },
  {
   "cell_type": "markdown",
   "metadata": {},
   "source": [
    "Se pasan los sinonimos de las características a estudiar a para realizar un adecuado procesamiento del texto"
   ]
  },
  {
   "cell_type": "code",
   "execution_count": 23,
   "metadata": {},
   "outputs": [],
   "source": [
    "#Generación del diccionario. Diccionario de las características que mediremos.\n",
    "sinonimosDulce = ['dulce','dulzón', 'azucarado', 'acaramelado', 'dulcificado']\n",
    "sinonimosAmargo = ['amargo', 'agrio', 'aspero','amargor','agriedad','amargura']\n",
    "sinonimosBurbujas = ['burbujas', 'burbujeo', 'efervescencia', 'espuma', 'efervescente', 'burbujeo', 'burbujear']"
   ]
  },
  {
   "cell_type": "code",
   "execution_count": 27,
   "metadata": {},
   "outputs": [],
   "source": [
    "def homologarSinonimosUnaPalabra(vectorTexto,sinonimos):\n",
    "    #Numero de palabras de la grabación.\n",
    "    numeroPalabras = len(vectorTexto)\n",
    "    #Casos para cada palabra\n",
    "    count = 0\n",
    "    while count < numeroPalabras:\n",
    "        if vectorTexto[count] in sinonimos:\n",
    "            print('Aqui')\n",
    "            vectorTexto[count] = sinonimos[0]\n",
    "        count += 1\n",
    "    return vectorTexto    \n",
    "\n",
    "def homologarSinonimos(texto):\n",
    "    #Metodo que realice el cambio de palabras para las caracteristicas de interes.\n",
    "    texto = homologarSinonimosUnaPalabra(texto,sinonimosDulce)\n",
    "    texto = homologarSinonimosUnaPalabra(texto,sinonimosAmargo)\n",
    "    texto = homologarSinonimosUnaPalabra(texto,sinonimosBurbujas)\n",
    "    return texto"
   ]
  },
  {
   "cell_type": "code",
   "execution_count": 28,
   "metadata": {},
   "outputs": [
    {
     "name": "stdout",
     "output_type": "stream",
     "text": [
      "Aqui\n"
     ]
    },
    {
     "data": {
      "text/plain": [
       "['encuestado',\n",
       " 'opino',\n",
       " 'bebida',\n",
       " 'tenia',\n",
       " 'dulzor',\n",
       " '5',\n",
       " 'asigno',\n",
       " 'amargura',\n",
       " '1',\n",
       " 'burbujas',\n",
       " '10']"
      ]
     },
     "execution_count": 28,
     "metadata": {},
     "output_type": "execute_result"
    }
   ],
   "source": [
    "homologarSinonimos(textPre)"
   ]
  },
  {
   "cell_type": "code",
   "execution_count": 27,
   "metadata": {},
   "outputs": [],
   "source": [
    "def stringNumerico (word):\n",
    "    #Funcion que verifica si un string es numerico\n",
    "    try:\n",
    "        val = int(word)\n",
    "        output = True\n",
    "    except ValueError:\n",
    "        output = False\n",
    "    return output\n",
    "\n",
    "#Funcion que realiza la busqueda de la calificacion.\n",
    "def buscarValorAsociado(caracteristica, vectorTexto):\n",
    "    indiceCaracteristica = np.where(vectorTexto == caracteristica)\n",
    "    calificacion = int(vectorTexto[indiceCaracteristica[0]+1])\n",
    "    return calificacion"
   ]
  }
 ],
 "metadata": {
  "kernelspec": {
   "display_name": "Python 3",
   "language": "python",
   "name": "python3"
  },
  "language_info": {
   "codemirror_mode": {
    "name": "ipython",
    "version": 3
   },
   "file_extension": ".py",
   "mimetype": "text/x-python",
   "name": "python",
   "nbconvert_exporter": "python",
   "pygments_lexer": "ipython3",
   "version": "3.7.1"
  }
 },
 "nbformat": 4,
 "nbformat_minor": 2
}
