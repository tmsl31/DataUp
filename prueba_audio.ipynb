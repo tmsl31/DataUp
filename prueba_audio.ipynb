{
 "cells": [
  {
   "cell_type": "code",
   "execution_count": 14,
   "metadata": {},
   "outputs": [],
   "source": [
    "#!/usr/bin/env python3\n",
    "\n",
    "# NOTE: this example requires PyAudio because it uses the Microphone class\n",
    "\n",
    "import speech_recognition as sr\n"
   ]
  },
  {
   "cell_type": "code",
   "execution_count": 9,
   "metadata": {},
   "outputs": [
    {
     "name": "stdout",
     "output_type": "stream",
     "text": [
      "0 Asignador de sonido Microsoft - Input\n",
      "1 Microphone (Synaptics SmartAudi\n",
      "2 Asignador de sonido Microsoft - Output\n",
      "3 Speakers (Synaptics SmartAudio \n",
      "4 Controlador primario de captura de sonido\n",
      "5 Microphone (Synaptics SmartAudio HD)\n",
      "6 Controlador primario de sonido\n",
      "7 Speakers (Synaptics SmartAudio HD)\n",
      "8 Speakers (Synaptics SmartAudio HD)\n",
      "9 Microphone (Synaptics SmartAudio HD)\n",
      "10 Mezcla estéreo (Conexant HD Stereo Mix)\n",
      "11 Micrófono (Conexant HD Audio capture)\n",
      "12 Speakers (Conexant HD Audio output)\n"
     ]
    }
   ],
   "source": [
    "import pyaudio\n",
    "p = pyaudio.PyAudio()\n",
    "for i in range(p.get_device_count()):\n",
    "    info = p.get_device_info_by_index(i)\n",
    "    print(info['index'], info['name'])"
   ]
  },
  {
   "cell_type": "code",
   "execution_count": 16,
   "metadata": {},
   "outputs": [
    {
     "name": "stdout",
     "output_type": "stream",
     "text": [
      "say something2\n",
      "say something3\n",
      "hola hola hola hola hola hola hola tarea caca\n"
     ]
    }
   ],
   "source": [
    "print (\"say something2\")\n",
    "with sr.Microphone() as source:                # use the default microphone as the audio source\n",
    "    r.adjust_for_ambient_noise(source)  # here\n",
    "    print (\"say something3\")\n",
    "    audio = r.listen(source,timeout=3)\n",
    "    holi = r.recognize_google(audio, language = 'es-CL')\n",
    "    print(holi)"
   ]
  },
  {
   "cell_type": "code",
   "execution_count": null,
   "metadata": {},
   "outputs": [],
   "source": [
    "import speech_recognition as sr \n",
    "r = sr.Recognizer()\n",
    "with sr.Microphone() as source:\n",
    "    print('speak say anything')\n",
    "    audio = r.listen(source)\n",
    "    text = r.recognize_google(audio)\n",
    "    print(\"you said:{}\".format(text))"
   ]
  },
  {
   "cell_type": "code",
   "execution_count": null,
   "metadata": {},
   "outputs": [],
   "source": [
    "import speech_recognition as sr\n",
    "\n",
    "# obtain audio from the microphone\n",
    "r = sr.Recognizer()\n",
    "with sr.Microphone() as source:\n",
    "    print(\"Say something!\")\n",
    "    audio = r.listen(source)\n",
    "    r.pause_threshold=1\n",
    "    r.adjust_for_ambient_noise(source, duration=1)\n",
    "# recognize speech using Google Speech Recognition\n",
    "try:\n",
    "    # for testing purposes, we're just using the default API key\n",
    "    # to use another API key, use `r.recognize_google(audio, key=\"GOOGLE_SPEECH_RECOGNITION_API_KEY\")`\n",
    "    # instead of `r.recognize_google(audio)`\n",
    "    print(\"Google Speech Recognition thinks you said \" + r.recognize_google(audio,language=\"es-CL\"))\n",
    "except sr.UnknownValueError:\n",
    "    print(\"Google Speech Recognition could not understand audio\")\n",
    "except sr.RequestError as e:\n",
    "    print(\"Could not request results from Google Speech Recognition service; {0}\".format(e))\n",
    "\n"
   ]
  },
  {
   "cell_type": "code",
   "execution_count": null,
   "metadata": {},
   "outputs": [],
   "source": [
    "# recognize speech using Google Cloud Speech\n",
    "GOOGLE_CLOUD_SPEECH_CREDENTIALS = r\"\"\"INSERT THE CONTENTS OF THE GOOGLE CLOUD SPEECH JSON CREDENTIALS FILE HERE\"\"\"\n",
    "try:\n",
    "    print(\"Google Cloud Speech thinks you said \" + r.recognize_google_cloud(audio, credentials_json=GOOGLE_CLOUD_SPEECH_CREDENTIALS))\n",
    "except sr.UnknownValueError:\n",
    "    print(\"Google Cloud Speech could not understand audio\")\n",
    "except sr.RequestError as e:\n",
    "    print(\"Could not request results from Google Cloud Speech service; {0}\".format(e))\n",
    "\n"
   ]
  },
  {
   "cell_type": "code",
   "execution_count": null,
   "metadata": {},
   "outputs": [],
   "source": [
    "# recognize speech using Wit.ai\n",
    "WIT_AI_KEY = \"INSERT WIT.AI API KEY HERE\"  # Wit.ai keys are 32-character uppercase alphanumeric strings\n",
    "try:\n",
    "    print(\"Wit.ai thinks you said \" + r.recognize_wit(audio, key=WIT_AI_KEY))\n",
    "except sr.UnknownValueError:\n",
    "    print(\"Wit.ai could not understand audio\")\n",
    "except sr.RequestError as e:\n",
    "    print(\"Could not request results from Wit.ai service; {0}\".format(e))\n",
    "\n"
   ]
  },
  {
   "cell_type": "code",
   "execution_count": null,
   "metadata": {},
   "outputs": [],
   "source": [
    "# recognize speech using Microsoft Bing Voice Recognition\n",
    "BING_KEY = \"INSERT BING API KEY HERE\"  # Microsoft Bing Voice Recognition API keys 32-character lowercase hexadecimal strings\n",
    "try:\n",
    "    print(\"Microsoft Bing Voice Recognition thinks you said \" + r.recognize_bing(audio, key=BING_KEY))\n",
    "except sr.UnknownValueError:\n",
    "    print(\"Microsoft Bing Voice Recognition could not understand audio\")\n",
    "except sr.RequestError as e:\n",
    "    print(\"Could not request results from Microsoft Bing Voice Recognition service; {0}\".format(e))\n",
    "\n"
   ]
  },
  {
   "cell_type": "code",
   "execution_count": null,
   "metadata": {},
   "outputs": [],
   "source": [
    "# recognize speech using Microsoft Azure Speech\n",
    "AZURE_SPEECH_KEY = \"INSERT AZURE SPEECH API KEY HERE\"  # Microsoft Speech API keys 32-character lowercase hexadecimal strings\n",
    "try:\n",
    "    print(\"Microsoft Azure Speech thinks you said \" + r.recognize_azure(audio, key=AZURE_SPEECH_KEY))\n",
    "except sr.UnknownValueError:\n",
    "    print(\"Microsoft Azure Speech could not understand audio\")\n",
    "except sr.RequestError as e:\n",
    "    print(\"Could not request results from Microsoft Azure Speech service; {0}\".format(e))\n",
    "\n"
   ]
  },
  {
   "cell_type": "code",
   "execution_count": null,
   "metadata": {},
   "outputs": [],
   "source": [
    "# recognize speech using Houndify\n",
    "HOUNDIFY_CLIENT_ID = \"INSERT HOUNDIFY CLIENT ID HERE\"  # Houndify client IDs are Base64-encoded strings\n",
    "HOUNDIFY_CLIENT_KEY = \"INSERT HOUNDIFY CLIENT KEY HERE\"  # Houndify client keys are Base64-encoded strings\n",
    "try:\n",
    "    print(\"Houndify thinks you said \" + r.recognize_houndify(audio, client_id=HOUNDIFY_CLIENT_ID, client_key=HOUNDIFY_CLIENT_KEY))\n",
    "except sr.UnknownValueError:\n",
    "    print(\"Houndify could not understand audio\")\n",
    "except sr.RequestError as e:\n",
    "    print(\"Could not request results from Houndify service; {0}\".format(e))\n"
   ]
  },
  {
   "cell_type": "code",
   "execution_count": null,
   "metadata": {},
   "outputs": [],
   "source": [
    "\n",
    "# recognize speech using IBM Speech to Text\n",
    "IBM_USERNAME = \"INSERT IBM SPEECH TO TEXT USERNAME HERE\"  # IBM Speech to Text usernames are strings of the form XXXXXXXX-XXXX-XXXX-XXXX-XXXXXXXXXXXX\n",
    "IBM_PASSWORD = \"INSERT IBM SPEECH TO TEXT PASSWORD HERE\"  # IBM Speech to Text passwords are mixed-case alphanumeric strings\n",
    "try:\n",
    "    print(\"IBM Speech to Text thinks you said \" + r.recognize_ibm(audio, username=IBM_USERNAME, password=IBM_PASSWORD))\n",
    "except sr.UnknownValueError:\n",
    "    print(\"IBM Speech to Text could not understand audio\")\n",
    "except sr.RequestError as e:\n",
    "print(\"Could not request results from IBM Speech to Text service; {0}\".format(e))"
   ]
  },
  {
   "cell_type": "code",
   "execution_count": null,
   "metadata": {},
   "outputs": [],
   "source": []
  }
 ],
 "metadata": {
  "kernelspec": {
   "display_name": "Python 3",
   "language": "python",
   "name": "python3"
  },
  "language_info": {
   "codemirror_mode": {
    "name": "ipython",
    "version": 3
   },
   "file_extension": ".py",
   "mimetype": "text/x-python",
   "name": "python",
   "nbconvert_exporter": "python",
   "pygments_lexer": "ipython3",
   "version": "3.7.1"
  }
 },
 "nbformat": 4,
 "nbformat_minor": 2
}
